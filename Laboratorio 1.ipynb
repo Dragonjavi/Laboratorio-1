{
 "cells": [
  {
   "attachments": {},
   "cell_type": "markdown",
   "metadata": {},
   "source": [
    "# Problema 1 "
   ]
  },
  {
   "cell_type": "code",
   "execution_count": 6,
   "metadata": {},
   "outputs": [],
   "source": [
    "def tiempo (tiempo):\n",
    "    try:\n",
    "        if tiempo < 0:\n",
    "           raise ValueError(\"El tiempo debe ser mayor igual a cero.\")\n",
    "        hor = tiempo // 3600\n",
    "        min = (tiempo % 3600  )  // 60\n",
    "        sec = (tiempo % 60)\n",
    "        print( f\"Horas: {hor}, minutos: {min}, segundos: {sec}. \")\n",
    "    except ValueError as eror:   \n",
    "        print(eror)"
   ]
  },
  {
   "attachments": {},
   "cell_type": "markdown",
   "metadata": {},
   "source": [
    "### Ingrese los valores "
   ]
  },
  {
   "cell_type": "code",
   "execution_count": 7,
   "metadata": {},
   "outputs": [
    {
     "name": "stdout",
     "output_type": "stream",
     "text": [
      "Horas: 23, minutos: 36, segundos: 40. \n",
      "None\n"
     ]
    }
   ],
   "source": [
    "tiempo = tiempo(85000)\n",
    "print(tiempo)"
   ]
  },
  {
   "attachments": {},
   "cell_type": "markdown",
   "metadata": {},
   "source": [
    "# Problema 2"
   ]
  },
  {
   "cell_type": "code",
   "execution_count": 8,
   "metadata": {},
   "outputs": [],
   "source": [
    "def triangular(numero, cosa):\n",
    "    for i in range(1,numero + 1):\n",
    "        print(cosa * i)\n",
    "    print(\"\\n\")\n",
    "    for i in range(numero, 0, -1):\n",
    "        print(cosa * i)\n",
    "    print(\"\\n\")\n",
    "    for i in range(1, numero + 1):\n",
    "        print(\" \" * (numero - i) + cosa * i) \n",
    "    print(\"\\n\")\n",
    "    for i in range(numero, 0, -1):\n",
    "        print(\" \" * (numero - i ) + cosa *i)  \n",
    "  \n",
    "    "
   ]
  },
  {
   "attachments": {},
   "cell_type": "markdown",
   "metadata": {},
   "source": [
    "### Ingrese los datos\n",
    "\n",
    "##### Si no da el tamaño darle en in a text editor ahi sale ampliado"
   ]
  },
  {
   "cell_type": "code",
   "execution_count": 9,
   "metadata": {},
   "outputs": [
    {
     "name": "stdout",
     "output_type": "stream",
     "text": [
      "+\n",
      "++\n",
      "+++\n",
      "++++\n",
      "+++++\n",
      "++++++\n",
      "+++++++\n",
      "++++++++\n",
      "\n",
      "\n",
      "++++++++\n",
      "+++++++\n",
      "++++++\n",
      "+++++\n",
      "++++\n",
      "+++\n",
      "++\n",
      "+\n",
      "\n",
      "\n",
      "       +\n",
      "      ++\n",
      "     +++\n",
      "    ++++\n",
      "   +++++\n",
      "  ++++++\n",
      " +++++++\n",
      "++++++++\n",
      "\n",
      "\n",
      "++++++++\n",
      " +++++++\n",
      "  ++++++\n",
      "   +++++\n",
      "    ++++\n",
      "     +++\n",
      "      ++\n",
      "       +\n",
      "None\n"
     ]
    }
   ],
   "source": [
    "triangulo = triangular(8, \"+\")\n",
    "print(triangulo)"
   ]
  },
  {
   "attachments": {},
   "cell_type": "markdown",
   "metadata": {},
   "source": [
    "# Problema 3"
   ]
  },
  {
   "cell_type": "code",
   "execution_count": 10,
   "metadata": {},
   "outputs": [
    {
     "name": "stdout",
     "output_type": "stream",
     "text": [
      "Ingrese su fecha de nacimiento.\n",
      "\n",
      "\n",
      "Su edad es de 31 años, 1 meses y 28 días.\n"
     ]
    }
   ],
   "source": [
    "from datetime import date\n",
    "\n",
    "print(\"Ingrese su fecha de nacimiento.\")\n",
    "print(\"\\n\")\n",
    "dia = int(input(\"Ingrese el día de nacimiento: \"))\n",
    "mes = int(input(\"Ingrese el mes de nacimiento: \"))\n",
    "año = int(input(\"Ingrese el año de nacimiento: \"))\n",
    "\n",
    "fecha_nacimiento = date(año, mes, dia)\n",
    "hoy = date.today()\n",
    "edad = hoy - fecha_nacimiento\n",
    "\n",
    "print(f\"Su edad es de {edad.days // 365} años, {edad.days%365 // 30} meses y {(edad.days % 365)%30} días.\")\n"
   ]
  },
  {
   "attachments": {},
   "cell_type": "markdown",
   "metadata": {},
   "source": [
    "# Problema 4"
   ]
  },
  {
   "cell_type": "code",
   "execution_count": 11,
   "metadata": {},
   "outputs": [],
   "source": [
    "def conversion(tupla):\n",
    "    palabra = \"\"\n",
    "    for cosa in tupla:\n",
    "        palabra += str(cosa)\n",
    "    return palabra    "
   ]
  },
  {
   "attachments": {},
   "cell_type": "markdown",
   "metadata": {},
   "source": [
    "### Ingrese los datos"
   ]
  },
  {
   "cell_type": "code",
   "execution_count": 12,
   "metadata": {},
   "outputs": [
    {
     "name": "stdout",
     "output_type": "stream",
     "text": [
      "101530Hola\n"
     ]
    }
   ],
   "source": [
    "conversion = conversion((10,15,30,\"Hola\"))\n",
    "print(conversion)"
   ]
  },
  {
   "attachments": {},
   "cell_type": "markdown",
   "metadata": {},
   "source": [
    "# Problema 5"
   ]
  },
  {
   "cell_type": "code",
   "execution_count": 13,
   "metadata": {},
   "outputs": [],
   "source": [
    "def vacias(lista_tupla):\n",
    "    nueva_lista = []\n",
    "    for i in lista_tupla:\n",
    "        if len(i) > 0:\n",
    "            nueva_lista.append(i)\n",
    "    return nueva_lista        "
   ]
  },
  {
   "attachments": {},
   "cell_type": "markdown",
   "metadata": {},
   "source": [
    "### Ingrese los datos"
   ]
  },
  {
   "cell_type": "code",
   "execution_count": 14,
   "metadata": {},
   "outputs": [
    {
     "name": "stdout",
     "output_type": "stream",
     "text": [
      "['Hola', (2, 3, 4, 5)]\n"
     ]
    }
   ],
   "source": [
    "listas = vacias([(), (\"Hola\"), (), (2,3,4,5)])\n",
    "print(listas)"
   ]
  },
  {
   "attachments": {},
   "cell_type": "markdown",
   "metadata": {},
   "source": [
    "# Problema 6"
   ]
  },
  {
   "cell_type": "code",
   "execution_count": 15,
   "metadata": {},
   "outputs": [],
   "source": [
    "def promedio(lista):\n",
    "    promedio_lista = []\n",
    "    for i in lista:\n",
    "        promedio = sum(i) / len(i)\n",
    "        promedio_lista.append(promedio)\n",
    "    return tuple(promedio_lista) "
   ]
  },
  {
   "attachments": {},
   "cell_type": "markdown",
   "metadata": {},
   "source": [
    "### Ingrese los datos"
   ]
  },
  {
   "cell_type": "code",
   "execution_count": 16,
   "metadata": {},
   "outputs": [
    {
     "name": "stdout",
     "output_type": "stream",
     "text": [
      "(10.5, 44.0, 58.0, 53.125)\n"
     ]
    }
   ],
   "source": [
    "tupla_lista = promedio(((10,10,10,12),(30,45,56,45),(81,80,39,32),(15,87,32.5,78)))\n",
    "print(tupla_lista)"
   ]
  },
  {
   "attachments": {},
   "cell_type": "markdown",
   "metadata": {},
   "source": [
    "# Problema 7"
   ]
  },
  {
   "cell_type": "code",
   "execution_count": 17,
   "metadata": {},
   "outputs": [
    {
     "name": "stdout",
     "output_type": "stream",
     "text": [
      "Añadir factura o cobro de factura.\n",
      "Ingrese 1 para añadir factura.\n",
      "Ingrese 2 para pagar facturas.\n",
      "Ingrese 3 para terminar.\n",
      "\n",
      "\n",
      "Factura añadida correctamente.\n",
      "Facturas pendientes: {'1456': 5469.0}\n",
      "Cantidad cobrada es de:  65498.0\n",
      "Cantidad pendiente de cobrar:  5469.0\n",
      "Añadir factura o cobro de factura.\n",
      "Ingrese 1 para añadir factura.\n",
      "Ingrese 2 para pagar facturas.\n",
      "Ingrese 3 para terminar.\n",
      "\n",
      "\n",
      "Se ha pagado la factura 1456 con un coste de Q. 5469.0\n",
      "Factura pagada.\n",
      "Facturas pendientes: {}\n",
      "Cantidad cobrada es de:  5469.0\n",
      "Cantidad pendiente de cobrar:  0\n",
      "Añadir factura o cobro de factura.\n",
      "Ingrese 1 para añadir factura.\n",
      "Ingrese 2 para pagar facturas.\n",
      "Ingrese 3 para terminar.\n",
      "\n",
      "\n",
      "Programa terminado\n"
     ]
    }
   ],
   "source": [
    "facturas = {}\n",
    "\n",
    "while True:\n",
    "    print(\"Añadir factura o cobro de factura.\")\n",
    "    print(\"Ingrese 1 para añadir factura.\")\n",
    "    print(\"Ingrese 2 para pagar facturas.\")\n",
    "    print(\"Ingrese 3 para terminar.\")\n",
    "    print(\"\\n\")\n",
    "    opcion = int(input(\"Ingrese el número de la opcion que desea: \"))\n",
    "\n",
    "    if opcion == 1:\n",
    "        numero_factura = input(\"Ingrese el número de factura que quiere añadir de 4 dígitos: \")\n",
    "        while len(numero_factura) != 4:\n",
    "            print(\"El número de factura debe tener 4 dígtos.\")\n",
    "            numero_factura = input(\"Ingrese el número de factura de 4 dígitos: \")\n",
    "        costo_factura = float(input(\"Ingrese el costo de la factura: \"))\n",
    "        facturas[numero_factura] = costo_factura\n",
    "        print(\"Factura añadida correctamente.\")\n",
    "        print(f\"Facturas pendientes: {facturas}\")\n",
    "\n",
    "    elif opcion == 2:\n",
    "        costo = 0\n",
    "        num_factura = input(\"Ingrese el número de factura que desea pagar: \") \n",
    "        if num_factura in facturas.keys():\n",
    "            print(f\"Se ha pagado la factura {num_factura} con un coste de Q. {costo_factura}\")\n",
    "            costo += costo_factura\n",
    "            del facturas[num_factura]\n",
    "            print(\"Factura pagada.\")\n",
    "            print(f\"Facturas pendientes: {facturas}\")  \n",
    "        else:\n",
    "            print(\"No se ha encontrado la factura con ese número.\")\n",
    "\n",
    "    elif opcion == 3:\n",
    "        print(\"Programa terminado\")\n",
    "        break\n",
    "    else:\n",
    "        print(\"Acción invalida.\")\n",
    "    \n",
    "    total_cobrado = costo\n",
    "    cantidad_pendiente = sum(facturas.values())\n",
    "    \n",
    "    print(\"\\n\")\n",
    "\n",
    "    print(\"Cantidad cobrada es de: \", str(total_cobrado))\n",
    "    print(\"Cantidad pendiente de cobrar: \", cantidad_pendiente)\n",
    "\n",
    "                                \n"
   ]
  },
  {
   "cell_type": "markdown",
   "metadata": {},
   "source": [
    "# Problema 8"
   ]
  },
  {
   "cell_type": "code",
   "execution_count": 30,
   "metadata": {},
   "outputs": [
    {
     "name": "stdout",
     "output_type": "stream",
     "text": [
      "['01', '02', '03', '04', '05', '06', '07', '08', '09', '10', '11', '12', '13']\n",
      "\n",
      "\n",
      "{'P07', 'P09', 'C12', 'P03', 'D05', 'D09', 'D06', 'T04', 'T08', 'C10', 'P10', 'C13', 'T10', 'T13', 'C07', 'P04', 'P05', 'D12', 'T11', 'T12', 'T07', 'C05', 'D13', 'D01', 'D07', 'T09', 'P02', 'P12', 'C01', 'T03', 'C06', 'T01', 'P11', 'P13', 'T05', 'T06', 'D04', 'C04', 'P01', 'D02', 'C08', 'C09', 'D08', 'D11', 'C11', 'P08', 'D03', 'D10', 'C03', 'C02', 'T02', 'P06'}\n",
      "\n",
      "\n",
      "\n",
      "\n"
     ]
    }
   ],
   "source": [
    "import random\n",
    "\n",
    "tipos = ['T', 'C', 'P', 'D']\n",
    "numeros = ['{:02d}'.format(i) for i in range (1,14)]\n",
    "\n",
    "print(numeros)\n",
    "print(\"\\n\")\n",
    "baraja = set([t+n for t in tipos for n in numeros])\n",
    "print(baraja)\n",
    "print(\"\\n\")\n",
    "\n",
    "def muestras(baraja, n1, n2):\n",
    "    muestra_1 = set(random.sample(baraja,n1))\n",
    "    muestra_2 = set(random.sample(baraja,n2))\n",
    "    return muestra_1, muestra_2\n",
    "\n",
    "print(\"\\n\")\n",
    "\n",
    "\n",
    "def intersecciones(muestra_1, muestra_2):\n",
    "    interseccion = muestra_1.intersection(muestra_2)\n",
    "    p_muestra1 = len(muestra_1) / len(baraja)\n",
    "    p_muestra2 = len(muestra_2) / len(baraja) \n",
    "    p_interseccion_condicional = len(interseccion) / len(muestra_1)\n",
    "    p_interseccion_independientes = p_muestra1 * p_muestra2\n",
    "    print(\"\\n\")\n",
    "    print(\"Probabilidad de intersección condicional: \", p_interseccion_condicional)\n",
    "\n",
    "    print(\"Probabilidad de intersección independiente: \", p_interseccion_independientes)\n",
    "    \n",
    "    if p_interseccion_independientes == p_interseccion_condicional:\n",
    "        print(\"Los conjuntos son eventos independientes\")\n",
    "    else:\n",
    "        print(\"Los conjuntos no son eventos independientes\")\n",
    "\n",
    "\n",
    "\n",
    "def probabilidad_union (muestra_1,muestra_2):\n",
    "    interseccion = muestra_1.intersection(muestra_2)\n",
    "    p_muestra1 = len(muestra_1) / len(baraja) \n",
    "    p_muestra2 = len(muestra_2) / len(baraja)\n",
    "    p_interseccion = len(interseccion) / len(baraja)\n",
    "    p_union = p_muestra1 + p_muestra2 - p_interseccion\n",
    "    print(\"\\n\")\n",
    "    print(\"Probabilidad de union: \", p_union)\n",
    "    \n",
    "    if p_union <= 1:\n",
    "        print(\"La regla de la adicción se cumple\")\n",
    "    else:\n",
    "        print(\"La regla de la adicción no se cumple\")     \n",
    "\n",
    "\n",
    "\n"
   ]
  },
  {
   "attachments": {},
   "cell_type": "markdown",
   "metadata": {},
   "source": [
    "### Ingreso de Datos"
   ]
  },
  {
   "cell_type": "code",
   "execution_count": 32,
   "metadata": {},
   "outputs": [
    {
     "name": "stdout",
     "output_type": "stream",
     "text": [
      "Muestra 1:  {'C12', 'T03', 'T04', 'P08', 'T10'}\n",
      "Muestra 2:  {'P07', 'D12', 'D02', 'D01', 'C10', 'T01', 'P08', 'P13'}\n",
      "\n",
      "\n",
      "Probabilidad de intersección condicional:  0.2\n",
      "Probabilidad de intersección independiente:  0.014792899408284025\n",
      "Los conjuntos no son eventos independientes\n",
      "\n",
      "\n",
      "Probabilidad de union:  0.23076923076923078\n",
      "La regla de la adicción se cumple\n"
     ]
    },
    {
     "name": "stderr",
     "output_type": "stream",
     "text": [
      "C:\\Users\\DELL INSPIRON\\AppData\\Local\\Temp\\ipykernel_53136\\2679098665.py:13: DeprecationWarning: Sampling from a set deprecated\n",
      "since Python 3.9 and will be removed in a subsequent version.\n",
      "  muestra_1 = set(random.sample(baraja,n1))\n",
      "C:\\Users\\DELL INSPIRON\\AppData\\Local\\Temp\\ipykernel_53136\\2679098665.py:14: DeprecationWarning: Sampling from a set deprecated\n",
      "since Python 3.9 and will be removed in a subsequent version.\n",
      "  muestra_2 = set(random.sample(baraja,n2))\n"
     ]
    }
   ],
   "source": [
    "muestra1, muestra2 = muestras(baraja, 5, 8)\n",
    "print(\"Muestra 1: \", muestra1)\n",
    "print(\"Muestra 2: \", muestra2) \n",
    "\n",
    "intersecciones(muestra1, muestra2)\n",
    "probabilidad_union(muestra1, muestra2)"
   ]
  }
 ],
 "metadata": {
  "kernelspec": {
   "display_name": "base",
   "language": "python",
   "name": "python3"
  },
  "language_info": {
   "codemirror_mode": {
    "name": "ipython",
    "version": 3
   },
   "file_extension": ".py",
   "mimetype": "text/x-python",
   "name": "python",
   "nbconvert_exporter": "python",
   "pygments_lexer": "ipython3",
   "version": "3.9.13"
  },
  "orig_nbformat": 4,
  "vscode": {
   "interpreter": {
    "hash": "cfa68b48b57c7a447ef2d235d704585b29b076adb28fa4ae0c86ef5c98294ba6"
   }
  }
 },
 "nbformat": 4,
 "nbformat_minor": 2
}
